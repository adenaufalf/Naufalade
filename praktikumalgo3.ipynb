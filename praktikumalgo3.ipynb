{
 "cells": [
  {
   "cell_type": "code",
   "execution_count": 1,
   "id": "02ef4fa8-fcab-4578-bce1-fe9f98337696",
   "metadata": {},
   "outputs": [
    {
     "name": "stdin",
     "output_type": "stream",
     "text": [
      "Nilai A:  1\n",
      "Nilai B:  6\n",
      "Nilai C:  9\n"
     ]
    },
    {
     "name": "stdout",
     "output_type": "stream",
     "text": [
      "persamaan kuadrat: 1 x2 + 6 x2 + 9\n",
      "Diskriminan: 0\n",
      "Merupakan akar kembar\n",
      "Akar = -3.0\n"
     ]
    }
   ],
   "source": [
    "import math\n",
    "\n",
    "a = int(input(\"Nilai A: \"))\n",
    "b = int(input(\"Nilai B: \"))\n",
    "c = int(input(\"Nilai C: \"))\n",
    "\n",
    "diskriminan = (b**2) - (4*1*c)\n",
    "\n",
    "print(\"persamaan kuadrat:\",a, \"x2 +\",b, \"x2 +\", c)\n",
    "print(\"Diskriminan:\", diskriminan)\n",
    "\n",
    "if diskriminan == 0:\n",
    "    x = -b / (2*a)\n",
    "    print(\"Merupakan akar kembar\")\n",
    "    print(\"Akar =\", x)\n",
    "elif diskriminan > 0:\n",
    "    x1 = (-b + math.sqrt(diskriminan)) / (2*a)\n",
    "    x2 = (-b - math.sqrt(diskriminan)) / (2*a)\n",
    "    print(\"Merupakan akar berbeda\")\n",
    "    print(\"x1 =\", x1)\n",
    "    print(\"x2 =\", x2)\n",
    "else:\n",
    "    print(\"Merupakan akar imajiner\")\n",
    "    print(\"x1 =\", (-b + cmath.sqrt(diskriminan)) / (2 * a))\n",
    "    print(\"x2 =\", (-b - cmath.sqrt(diskriminan)) / (2 * a))"
   ]
  },
  {
   "cell_type": "code",
   "execution_count": null,
   "id": "adb3423b-35fc-4b33-8011-c5e382cb4d88",
   "metadata": {},
   "outputs": [],
   "source": []
  }
 ],
 "metadata": {
  "kernelspec": {
   "display_name": "Python 3 (ipykernel)",
   "language": "python",
   "name": "python3"
  },
  "language_info": {
   "codemirror_mode": {
    "name": "ipython",
    "version": 3
   },
   "file_extension": ".py",
   "mimetype": "text/x-python",
   "name": "python",
   "nbconvert_exporter": "python",
   "pygments_lexer": "ipython3",
   "version": "3.12.4"
  }
 },
 "nbformat": 4,
 "nbformat_minor": 5
}
