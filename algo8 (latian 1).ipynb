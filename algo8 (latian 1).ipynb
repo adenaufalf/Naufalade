{
 "cells": [
  {
   "cell_type": "code",
   "execution_count": 23,
   "id": "6b8d121a-d630-420a-a5bf-bba2870b297a",
   "metadata": {},
   "outputs": [
    {
     "name": "stdin",
     "output_type": "stream",
     "text": [
      "Jumlah angka:  5\n",
      "masukkan angka ke5  5\n",
      "masukkan angka ke4  4\n",
      "masukkan angka ke3  3\n",
      "masukkan angka ke2  2\n",
      "masukkan angka ke1  1\n"
     ]
    },
    {
     "name": "stdout",
     "output_type": "stream",
     "text": [
      "hasil: 15\n"
     ]
    }
   ],
   "source": [
    "def hitung_jumlah(n):\n",
    "    if n <= 0:\n",
    "        return 0\n",
    "    else:\n",
    "        angka = int(input(f\"masukkan angka ke{n} \"))\n",
    "        return angka + hitung_jumlah(n - 1)\n",
    "\n",
    "jumlah_angka = int(input(\"Jumlah angka: \"))\n",
    "if jumlah_angka > 0:\n",
    "    hasil = hitung_jumlah(jumlah_angka)\n",
    "    print(f\"hasil: {hasil}\")\n",
    "else:\n",
    "    print(\"hasil: 0\")"
   ]
  },
  {
   "cell_type": "code",
   "execution_count": null,
   "id": "f911b6eb-820c-4c54-88b2-164ff36bb0a6",
   "metadata": {},
   "outputs": [],
   "source": []
  }
 ],
 "metadata": {
  "kernelspec": {
   "display_name": "Python 3 (ipykernel)",
   "language": "python",
   "name": "python3"
  },
  "language_info": {
   "codemirror_mode": {
    "name": "ipython",
    "version": 3
   },
   "file_extension": ".py",
   "mimetype": "text/x-python",
   "name": "python",
   "nbconvert_exporter": "python",
   "pygments_lexer": "ipython3",
   "version": "3.12.4"
  }
 },
 "nbformat": 4,
 "nbformat_minor": 5
}
