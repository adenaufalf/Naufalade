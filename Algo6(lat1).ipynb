{
 "cells": [
  {
   "cell_type": "code",
   "execution_count": null,
   "id": "a0a31138-031a-4347-bfa3-b5a53d9d30ba",
   "metadata": {},
   "outputs": [],
   "source": [
    "def hitung_rata_rata(angka1,angka2):\n",
    "    rata_rata = (angka1 + angka2) /2\n",
    "    return rata_rata\n",
    "angka1 = float(input(\"nilai A :\"))\n",
    "angka2 = float(input(\"nilai C :\"))\n",
    "jumlah = hitung_rata_rata(angka1,angka2)\n",
    "print(\"Hasil rata_rata:\",jumlah)\n"
   ]
  },
  {
   "cell_type": "code",
   "execution_count": null,
   "id": "d757468f-d1fd-4518-b089-9c692980a6c2",
   "metadata": {},
   "outputs": [],
   "source": []
  }
 ],
 "metadata": {
  "kernelspec": {
   "display_name": "Python 3 (ipykernel)",
   "language": "python",
   "name": "python3"
  },
  "language_info": {
   "codemirror_mode": {
    "name": "ipython",
    "version": 3
   },
   "file_extension": ".py",
   "mimetype": "text/x-python",
   "name": "python",
   "nbconvert_exporter": "python",
   "pygments_lexer": "ipython3",
   "version": "3.12.4"
  }
 },
 "nbformat": 4,
 "nbformat_minor": 5
}
