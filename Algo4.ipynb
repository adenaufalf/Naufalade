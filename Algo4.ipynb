{
 "cells": [
  {
   "cell_type": "code",
   "execution_count": null,
   "id": "61d7334f-be5e-409a-afc0-bf1883586959",
   "metadata": {},
   "outputs": [
    {
     "name": "stdout",
     "output_type": "stream",
     "text": [
      "Masukkan angka di luar bulan (1-12) untuk berhenti\n"
     ]
    },
    {
     "name": "stdin",
     "output_type": "stream",
     "text": [
      "Bulan (1-12) :  2\n",
      "Masukkan tahun:  2004\n"
     ]
    },
    {
     "name": "stdout",
     "output_type": "stream",
     "text": [
      "Ada 29 hari (tahun kabisat)\n"
     ]
    },
    {
     "name": "stdin",
     "output_type": "stream",
     "text": [
      "Bulan (1-12) :  12\n"
     ]
    },
    {
     "name": "stdout",
     "output_type": "stream",
     "text": [
      "Ada 31 hari\n"
     ]
    },
    {
     "name": "stdin",
     "output_type": "stream",
     "text": [
      "Bulan (1-12) :  5\n"
     ]
    },
    {
     "name": "stdout",
     "output_type": "stream",
     "text": [
      "Ada 31 hari\n"
     ]
    }
   ],
   "source": [
    "print(\"Masukkan angka di luar bulan (1-12) untuk berhenti\")\n",
    "while True: \n",
    "    bulan = input(\"Bulan (1-12) : \")\n",
    "    try:\n",
    "        bulan = int(bulan)\n",
    "    except ValueError:\n",
    "        print(\"Input tidak valid, silakan masukkan angka.\")\n",
    "        continue\n",
    "    if bulan < 1 or bulan > 12:\n",
    "        print(\"Data invalid, program dihentikan.\")\n",
    "        break\n",
    "    if bulan == 2:\n",
    "        tahun = input(\"Masukkan tahun: \")\n",
    "        try:\n",
    "            tahun = int(tahun)\n",
    "            if (tahun % 4 == 0 and tahun % 100 != 0) or (tahun % 400 == 0):\n",
    "                print(\"Ada 29 hari (tahun kabisat)\")\n",
    "            else:\n",
    "                print(\"Ada 28 hari\")\n",
    "        except ValueError:\n",
    "            print(\"Input tahun tidak valid.\")\n",
    "            continue\n",
    "    elif bulan == 1 or bulan == 3 or bulan == 5 or bulan == 7 or bulan == 8 or bulan == 10 or bulan == 12:\n",
    "         print(\"Ada 31 hari\")\n",
    "    elif bulan == 4 or bulan == 6 or bulan == 9 or bulan == 11:\n",
    "         print(\"Ada 30 hari\")"
   ]
  },
  {
   "cell_type": "code",
   "execution_count": null,
   "id": "53dde6e3-38bf-4e35-8b80-43a858ac1996",
   "metadata": {},
   "outputs": [],
   "source": []
  }
 ],
 "metadata": {
  "kernelspec": {
   "display_name": "Python 3 (ipykernel)",
   "language": "python",
   "name": "python3"
  },
  "language_info": {
   "codemirror_mode": {
    "name": "ipython",
    "version": 3
   },
   "file_extension": ".py",
   "mimetype": "text/x-python",
   "name": "python",
   "nbconvert_exporter": "python",
   "pygments_lexer": "ipython3",
   "version": "3.12.4"
  }
 },
 "nbformat": 4,
 "nbformat_minor": 5
}
