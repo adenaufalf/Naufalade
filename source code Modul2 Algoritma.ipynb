{
 "cells": [
  {
   "cell_type": "code",
   "execution_count": 5,
   "id": "085a0696-0c71-4257-9e56-13f970358ddc",
   "metadata": {},
   "outputs": [
    {
     "name": "stdin",
     "output_type": "stream",
     "text": [
      " 10\n",
      " 2\n"
     ]
    },
    {
     "name": "stdout",
     "output_type": "stream",
     "text": [
      "12\n",
      "-8\n",
      "20\n",
      "0\n",
      "5.0\n",
      "2.302585092994046\n",
      "100\n"
     ]
    }
   ],
   "source": [
    "import math\n",
    "a= int(input())\n",
    "b= int(input())\n",
    "print (a+b)\n",
    "print (b-a)\n",
    "print (a*b)\n",
    "print (a%b)\n",
    "print (a/b)\n",
    "print(math.log(a))\n",
    "print(a**b)\n",
    "\n",
    "                                                                                                                                                                                                                                                                                                                                                                                                                                                                                            "
   ]
  },
  {
   "cell_type": "code",
   "execution_count": 2,
   "id": "3d879455-5110-4473-bedf-5cf33f85fe1c",
   "metadata": {},
   "outputs": [
    {
     "name": "stdin",
     "output_type": "stream",
     "text": [
      "masukkan lintang 1 :  400\n",
      "masukkan bujur 1 :  200\n",
      "masukkan lintang 2 :  200\n",
      "masukkan bujur 2 :  100\n"
     ]
    },
    {
     "name": "stdout",
     "output_type": "stream",
     "text": [
      "10612.718906845868\n"
     ]
    }
   ],
   "source": [
    "import math\n",
    "lat1 = math.radians(float(input(\"masukkan lintang 1 : \")))\n",
    "long1 = math.radians(float(input(\"masukkan bujur 1 : \")))\n",
    "lat2 = math.radians(float(input(\"masukkan lintang 2 : \")))\n",
    "long2 = math.radians(float(input(\"masukkan bujur 2 : \")))\n",
    "R = 6371\n",
    "\n",
    "lat = lat2-lat1\n",
    "long = long2-long1\n",
    "a = math.sin(lat/2)**2 + math.cos(lat1)*math.cos(lat2)*math.sin(long/2)**2\n",
    "c = 2 * math.atan2(sqrt(a), sqrt (1-a))\n",
    "d = R*c\n",
    "print(d)"
   ]
  },
  {
   "cell_type": "code",
   "execution_count": null,
   "id": "b33a7c50-ded6-4d0a-9e51-8a796e27a016",
   "metadata": {},
   "outputs": [],
   "source": []
  }
 ],
 "metadata": {
  "kernelspec": {
   "display_name": "Python 3 (ipykernel)",
   "language": "python",
   "name": "python3"
  },
  "language_info": {
   "codemirror_mode": {
    "name": "ipython",
    "version": 3
   },
   "file_extension": ".py",
   "mimetype": "text/x-python",
   "name": "python",
   "nbconvert_exporter": "python",
   "pygments_lexer": "ipython3",
   "version": "3.12.4"
  }
 },
 "nbformat": 4,
 "nbformat_minor": 5
}
